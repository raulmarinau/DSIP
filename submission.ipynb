{
 "cells": [
  {
   "cell_type": "code",
   "execution_count": 1,
   "metadata": {},
   "outputs": [],
   "source": [
    "import numpy as np\n",
    "import pandas as pd\n",
    "import matplotlib.pyplot as plt\n",
    "import seaborn as sns\n",
    "\n",
    "%matplotlib inline\n",
    "\n",
    "import warnings\n",
    "warnings.filterwarnings('ignore')\n",
    "\n",
    "RANDOM_STATE = 1337"
   ]
  },
  {
   "cell_type": "code",
   "execution_count": 2,
   "metadata": {},
   "outputs": [],
   "source": [
    "df_train = pd.read_csv(\"../train.csv\")\n",
    "df_test = pd.read_csv(\"../test.csv\")"
   ]
  },
  {
   "cell_type": "code",
   "execution_count": 3,
   "metadata": {},
   "outputs": [
    {
     "data": {
      "text/plain": [
       "0    197982\n",
       "1       383\n",
       "Name: Class, dtype: int64"
      ]
     },
     "execution_count": 3,
     "metadata": {},
     "output_type": "execute_result"
    }
   ],
   "source": [
    "df_train[\"Class\"].value_counts()"
   ]
  },
  {
   "cell_type": "code",
   "execution_count": 4,
   "metadata": {},
   "outputs": [],
   "source": [
    "from sklearn.metrics import classification_report, confusion_matrix\n",
    "\n",
    "def plot_norm_heatmap(test, pred, color):\n",
    "    f, axes = plt.subplots(ncols=2, figsize=(18, 5))\n",
    "    print(classification_report(test, pred))\n",
    "    sns.heatmap(confusion_matrix(test, pred), annot=True, fmt=\"g\", ax=axes[0],\n",
    "                cmap=sns.light_palette(color, as_cmap=True),\n",
    "                xticklabels=[\"Not Fraud\", \"Fraud\"],\n",
    "                yticklabels=[\"Not Fraud\", \"Fraud\"],\n",
    "            )\n",
    "    axes[0].set_xlabel(\"Predicted\")\n",
    "    axes[0].set_ylabel(\"Actual\")\n",
    "    axes[0].set_title(\"Numeric\")\n",
    "\n",
    "    sns.heatmap(confusion_matrix(test, pred, normalize=\"true\"), annot=True, fmt=\"g\", ax=axes[1],\n",
    "                cmap=sns.light_palette(color, as_cmap=True),\n",
    "                xticklabels=[\"Not Fraud\", \"Fraud\"],\n",
    "                yticklabels=[\"Not Fraud\", \"Fraud\"],\n",
    "            )\n",
    "    axes[1].set_xlabel(\"Predicted\")\n",
    "    axes[1].set_ylabel(\"Actual\")\n",
    "    axes[1].set_title(\"Normalized\")\n",
    "    plt.show()"
   ]
  },
  {
   "cell_type": "code",
   "execution_count": 5,
   "metadata": {},
   "outputs": [],
   "source": [
    "from sklearn.model_selection import train_test_split\n",
    "\n",
    "df_features = df_train.drop(\"Class\", axis=1)\n",
    "df_target = df_train[\"Class\"]\n",
    "\n",
    "train_X, test_X, train_y, test_y = train_test_split(df_features, df_target,\n",
    "            test_size=0.25, random_state=RANDOM_STATE, shuffle=True, stratify=df_target)"
   ]
  },
  {
   "cell_type": "code",
   "execution_count": 6,
   "metadata": {},
   "outputs": [
    {
     "name": "stdout",
     "output_type": "stream",
     "text": [
      "catboost: 1 GPU devices\n"
     ]
    }
   ],
   "source": [
    "from catboost import CatBoostClassifier\n",
    "from catboost.utils import get_gpu_device_count\n",
    "from sklearn.model_selection import RandomizedSearchCV\n",
    "\n",
    "print('catboost: %i GPU devices' % get_gpu_device_count())\n",
    "\n",
    "cbc_params = {\n",
    "    \"learning_rate\": [0.001, 0.01, 0.05, 0.1],\n",
    "    \"depth\": range(6, 10),\n",
    "    # \"border_count\": 128,\n",
    "}\n",
    "\n",
    "cbc = CatBoostClassifier(eval_metric='Recall',\n",
    "                        random_seed=RANDOM_STATE,\n",
    "                        metric_period=50,\n",
    "                        iterations=200,\n",
    "                        task_type=\"GPU\",\n",
    "                        devices=\"0:1\")\n",
    "\n",
    "final_clf = RandomizedSearchCV(cbc, cbc_params, cv=5)"
   ]
  },
  {
   "cell_type": "code",
   "execution_count": 7,
   "metadata": {},
   "outputs": [
    {
     "name": "stdout",
     "output_type": "stream",
     "text": [
      "0:\tlearn: 0.8086957\ttotal: 21.3ms\tremaining: 4.24s\n",
      "50:\tlearn: 0.8869565\ttotal: 972ms\tremaining: 2.84s\n",
      "100:\tlearn: 0.9260870\ttotal: 1.92s\tremaining: 1.89s\n",
      "150:\tlearn: 0.9608696\ttotal: 2.87s\tremaining: 932ms\n",
      "199:\tlearn: 0.9913043\ttotal: 3.79s\tremaining: 0us\n",
      "0:\tlearn: 0.8034934\ttotal: 18.3ms\tremaining: 3.64s\n",
      "50:\tlearn: 0.8689956\ttotal: 972ms\tremaining: 2.84s\n",
      "100:\tlearn: 0.9301310\ttotal: 1.92s\tremaining: 1.88s\n",
      "150:\tlearn: 0.9606987\ttotal: 2.87s\tremaining: 930ms\n",
      "199:\tlearn: 0.9868996\ttotal: 3.8s\tremaining: 0us\n",
      "0:\tlearn: 0.8078603\ttotal: 19.3ms\tremaining: 3.84s\n",
      "50:\tlearn: 0.8777293\ttotal: 959ms\tremaining: 2.8s\n",
      "100:\tlearn: 0.9301310\ttotal: 1.91s\tremaining: 1.87s\n",
      "150:\tlearn: 0.9650655\ttotal: 2.86s\tremaining: 928ms\n",
      "199:\tlearn: 0.9825328\ttotal: 3.79s\tremaining: 0us\n",
      "0:\tlearn: 0.7695652\ttotal: 20.4ms\tremaining: 4.06s\n",
      "50:\tlearn: 0.8739130\ttotal: 962ms\tremaining: 2.81s\n",
      "100:\tlearn: 0.9086957\ttotal: 1.91s\tremaining: 1.87s\n",
      "150:\tlearn: 0.9521739\ttotal: 2.85s\tremaining: 926ms\n",
      "199:\tlearn: 0.9782609\ttotal: 3.78s\tremaining: 0us\n",
      "0:\tlearn: 0.7695652\ttotal: 18.9ms\tremaining: 3.76s\n",
      "50:\tlearn: 0.8652174\ttotal: 969ms\tremaining: 2.83s\n",
      "100:\tlearn: 0.9130435\ttotal: 1.92s\tremaining: 1.88s\n",
      "150:\tlearn: 0.9521739\ttotal: 2.89s\tremaining: 937ms\n",
      "199:\tlearn: 0.9869565\ttotal: 3.82s\tremaining: 0us\n",
      "0:\tlearn: 0.8086957\ttotal: 19.1ms\tremaining: 3.8s\n",
      "50:\tlearn: 0.8695652\ttotal: 968ms\tremaining: 2.83s\n",
      "100:\tlearn: 0.8913043\ttotal: 1.92s\tremaining: 1.88s\n",
      "150:\tlearn: 0.9173913\ttotal: 2.85s\tremaining: 924ms\n",
      "199:\tlearn: 0.9304348\ttotal: 3.78s\tremaining: 0us\n",
      "0:\tlearn: 0.8034934\ttotal: 22.7ms\tremaining: 4.51s\n",
      "50:\tlearn: 0.8558952\ttotal: 975ms\tremaining: 2.85s\n",
      "100:\tlearn: 0.8733624\ttotal: 1.93s\tremaining: 1.9s\n",
      "150:\tlearn: 0.8995633\ttotal: 2.88s\tremaining: 936ms\n",
      "199:\tlearn: 0.9301310\ttotal: 3.8s\tremaining: 0us\n",
      "0:\tlearn: 0.8078603\ttotal: 19.8ms\tremaining: 3.94s\n",
      "50:\tlearn: 0.8689956\ttotal: 965ms\tremaining: 2.82s\n",
      "100:\tlearn: 0.8777293\ttotal: 1.91s\tremaining: 1.88s\n",
      "150:\tlearn: 0.9039301\ttotal: 2.86s\tremaining: 930ms\n",
      "199:\tlearn: 0.9257642\ttotal: 3.79s\tremaining: 0us\n",
      "0:\tlearn: 0.7695652\ttotal: 20.7ms\tremaining: 4.12s\n",
      "50:\tlearn: 0.8434783\ttotal: 968ms\tremaining: 2.83s\n",
      "100:\tlearn: 0.8652174\ttotal: 1.91s\tremaining: 1.88s\n",
      "150:\tlearn: 0.8913043\ttotal: 2.87s\tremaining: 932ms\n",
      "199:\tlearn: 0.9173913\ttotal: 3.81s\tremaining: 0us\n",
      "0:\tlearn: 0.7695652\ttotal: 19.1ms\tremaining: 3.79s\n",
      "50:\tlearn: 0.8434783\ttotal: 961ms\tremaining: 2.81s\n",
      "100:\tlearn: 0.8608696\ttotal: 1.91s\tremaining: 1.87s\n",
      "150:\tlearn: 0.8956522\ttotal: 2.87s\tremaining: 932ms\n",
      "199:\tlearn: 0.9130435\ttotal: 3.82s\tremaining: 0us\n",
      "0:\tlearn: 0.8043478\ttotal: 10.7ms\tremaining: 2.13s\n",
      "50:\tlearn: 0.8304348\ttotal: 459ms\tremaining: 1.34s\n",
      "100:\tlearn: 0.8347826\ttotal: 855ms\tremaining: 838ms\n",
      "150:\tlearn: 0.8434783\ttotal: 1.29s\tremaining: 419ms\n",
      "199:\tlearn: 0.8434783\ttotal: 1.69s\tremaining: 0us\n",
      "0:\tlearn: 0.7641921\ttotal: 19.3ms\tremaining: 3.84s\n",
      "50:\tlearn: 0.8253275\ttotal: 439ms\tremaining: 1.28s\n",
      "100:\tlearn: 0.8253275\ttotal: 845ms\tremaining: 829ms\n",
      "150:\tlearn: 0.8340611\ttotal: 1.26s\tremaining: 408ms\n",
      "199:\tlearn: 0.8384279\ttotal: 1.66s\tremaining: 0us\n",
      "0:\tlearn: 0.8034934\ttotal: 9.2ms\tremaining: 1.83s\n",
      "50:\tlearn: 0.8122271\ttotal: 418ms\tremaining: 1.22s\n",
      "100:\tlearn: 0.8209607\ttotal: 820ms\tremaining: 803ms\n",
      "150:\tlearn: 0.8340611\ttotal: 1.25s\tremaining: 404ms\n",
      "199:\tlearn: 0.8471616\ttotal: 1.65s\tremaining: 0us\n",
      "0:\tlearn: 0.7695652\ttotal: 9.9ms\tremaining: 1.97s\n",
      "50:\tlearn: 0.8130435\ttotal: 418ms\tremaining: 1.22s\n",
      "100:\tlearn: 0.8130435\ttotal: 835ms\tremaining: 818ms\n",
      "150:\tlearn: 0.8217391\ttotal: 1.24s\tremaining: 403ms\n",
      "199:\tlearn: 0.8260870\ttotal: 1.65s\tremaining: 0us\n",
      "0:\tlearn: 0.7956522\ttotal: 10.2ms\tremaining: 2.03s\n",
      "50:\tlearn: 0.8043478\ttotal: 420ms\tremaining: 1.23s\n",
      "100:\tlearn: 0.8086957\ttotal: 832ms\tremaining: 816ms\n",
      "150:\tlearn: 0.8217391\ttotal: 1.24s\tremaining: 403ms\n",
      "199:\tlearn: 0.8217391\ttotal: 1.65s\tremaining: 0us\n",
      "0:\tlearn: 0.8043478\ttotal: 14.1ms\tremaining: 2.8s\n",
      "50:\tlearn: 0.8565217\ttotal: 687ms\tremaining: 2.01s\n",
      "100:\tlearn: 0.8826087\ttotal: 1.36s\tremaining: 1.34s\n",
      "150:\tlearn: 0.9086957\ttotal: 2.04s\tremaining: 662ms\n",
      "199:\tlearn: 0.9304348\ttotal: 2.69s\tremaining: 0us\n",
      "0:\tlearn: 0.8209607\ttotal: 14.9ms\tremaining: 2.97s\n",
      "50:\tlearn: 0.8602620\ttotal: 693ms\tremaining: 2.02s\n",
      "100:\tlearn: 0.8733624\ttotal: 1.36s\tremaining: 1.33s\n",
      "150:\tlearn: 0.8995633\ttotal: 2.02s\tremaining: 657ms\n",
      "199:\tlearn: 0.9170306\ttotal: 2.67s\tremaining: 0us\n",
      "0:\tlearn: 0.7947598\ttotal: 17.4ms\tremaining: 3.46s\n",
      "50:\tlearn: 0.8558952\ttotal: 692ms\tremaining: 2.02s\n",
      "100:\tlearn: 0.8733624\ttotal: 1.37s\tremaining: 1.34s\n",
      "150:\tlearn: 0.9039301\ttotal: 2.04s\tremaining: 663ms\n",
      "199:\tlearn: 0.9344978\ttotal: 2.7s\tremaining: 0us\n",
      "0:\tlearn: 0.7043478\ttotal: 14.7ms\tremaining: 2.92s\n",
      "50:\tlearn: 0.8347826\ttotal: 680ms\tremaining: 1.99s\n",
      "100:\tlearn: 0.8652174\ttotal: 1.36s\tremaining: 1.33s\n",
      "150:\tlearn: 0.8913043\ttotal: 2.04s\tremaining: 661ms\n",
      "199:\tlearn: 0.9086957\ttotal: 2.69s\tremaining: 0us\n",
      "0:\tlearn: 0.7608696\ttotal: 14.2ms\tremaining: 2.83s\n",
      "50:\tlearn: 0.8260870\ttotal: 681ms\tremaining: 1.99s\n",
      "100:\tlearn: 0.8521739\ttotal: 1.37s\tremaining: 1.34s\n",
      "150:\tlearn: 0.8782609\ttotal: 2.06s\tremaining: 668ms\n",
      "199:\tlearn: 0.9086957\ttotal: 2.73s\tremaining: 0us\n",
      "0:\tlearn: 0.8086957\ttotal: 19.6ms\tremaining: 3.9s\n",
      "50:\tlearn: 0.8347826\ttotal: 977ms\tremaining: 2.85s\n",
      "100:\tlearn: 0.8347826\ttotal: 1.93s\tremaining: 1.89s\n",
      "150:\tlearn: 0.8347826\ttotal: 2.93s\tremaining: 951ms\n",
      "199:\tlearn: 0.8347826\ttotal: 3.87s\tremaining: 0us\n",
      "0:\tlearn: 0.8034934\ttotal: 19.7ms\tremaining: 3.92s\n",
      "50:\tlearn: 0.8296943\ttotal: 966ms\tremaining: 2.82s\n",
      "100:\tlearn: 0.8253275\ttotal: 1.92s\tremaining: 1.88s\n",
      "150:\tlearn: 0.8253275\ttotal: 2.87s\tremaining: 932ms\n",
      "199:\tlearn: 0.8296943\ttotal: 3.8s\tremaining: 0us\n",
      "0:\tlearn: 0.8078603\ttotal: 20.2ms\tremaining: 4.02s\n",
      "50:\tlearn: 0.8165939\ttotal: 955ms\tremaining: 2.79s\n",
      "100:\tlearn: 0.8209607\ttotal: 1.92s\tremaining: 1.88s\n",
      "150:\tlearn: 0.8209607\ttotal: 2.88s\tremaining: 933ms\n",
      "199:\tlearn: 0.8209607\ttotal: 3.82s\tremaining: 0us\n",
      "0:\tlearn: 0.7695652\ttotal: 19.8ms\tremaining: 3.94s\n",
      "50:\tlearn: 0.8130435\ttotal: 958ms\tremaining: 2.8s\n",
      "100:\tlearn: 0.8173913\ttotal: 1.92s\tremaining: 1.88s\n",
      "150:\tlearn: 0.8173913\ttotal: 2.88s\tremaining: 935ms\n",
      "199:\tlearn: 0.8173913\ttotal: 3.82s\tremaining: 0us\n",
      "0:\tlearn: 0.7695652\ttotal: 19.7ms\tremaining: 3.92s\n",
      "50:\tlearn: 0.8000000\ttotal: 970ms\tremaining: 2.83s\n",
      "100:\tlearn: 0.8000000\ttotal: 1.92s\tremaining: 1.88s\n",
      "150:\tlearn: 0.8000000\ttotal: 2.87s\tremaining: 932ms\n",
      "199:\tlearn: 0.8000000\ttotal: 3.81s\tremaining: 0us\n",
      "0:\tlearn: 0.8043478\ttotal: 9.44ms\tremaining: 1.88s\n",
      "50:\tlearn: 0.8173913\ttotal: 421ms\tremaining: 1.23s\n",
      "100:\tlearn: 0.8217391\ttotal: 835ms\tremaining: 819ms\n",
      "150:\tlearn: 0.8217391\ttotal: 1.25s\tremaining: 404ms\n",
      "199:\tlearn: 0.8217391\ttotal: 1.64s\tremaining: 0us\n",
      "0:\tlearn: 0.7641921\ttotal: 9.62ms\tremaining: 1.91s\n",
      "50:\tlearn: 0.7903930\ttotal: 407ms\tremaining: 1.19s\n",
      "100:\tlearn: 0.7903930\ttotal: 809ms\tremaining: 793ms\n",
      "150:\tlearn: 0.7991266\ttotal: 1.21s\tremaining: 391ms\n",
      "199:\tlearn: 0.8034934\ttotal: 1.6s\tremaining: 0us\n",
      "0:\tlearn: 0.8034934\ttotal: 10.3ms\tremaining: 2.05s\n",
      "50:\tlearn: 0.7991266\ttotal: 404ms\tremaining: 1.18s\n",
      "100:\tlearn: 0.7991266\ttotal: 807ms\tremaining: 791ms\n",
      "150:\tlearn: 0.8034934\ttotal: 1.23s\tremaining: 399ms\n",
      "199:\tlearn: 0.8078603\ttotal: 1.63s\tremaining: 0us\n",
      "0:\tlearn: 0.7695652\ttotal: 10.9ms\tremaining: 2.16s\n",
      "50:\tlearn: 0.7869565\ttotal: 442ms\tremaining: 1.29s\n",
      "100:\tlearn: 0.7869565\ttotal: 841ms\tremaining: 824ms\n",
      "150:\tlearn: 0.7956522\ttotal: 1.24s\tremaining: 401ms\n",
      "199:\tlearn: 0.7956522\ttotal: 1.63s\tremaining: 0us\n",
      "0:\tlearn: 0.7956522\ttotal: 10.2ms\tremaining: 2.02s\n",
      "50:\tlearn: 0.7739130\ttotal: 433ms\tremaining: 1.26s\n",
      "100:\tlearn: 0.7869565\ttotal: 838ms\tremaining: 821ms\n",
      "150:\tlearn: 0.7869565\ttotal: 1.24s\tremaining: 402ms\n",
      "199:\tlearn: 0.7826087\ttotal: 1.62s\tremaining: 0us\n",
      "0:\tlearn: 0.8043478\ttotal: 17.6ms\tremaining: 3.5s\n",
      "50:\tlearn: 0.8869565\ttotal: 697ms\tremaining: 2.04s\n",
      "100:\tlearn: 0.9130435\ttotal: 1.37s\tremaining: 1.35s\n",
      "150:\tlearn: 0.9434783\ttotal: 2.11s\tremaining: 684ms\n",
      "199:\tlearn: 0.9826087\ttotal: 2.9s\tremaining: 0us\n",
      "0:\tlearn: 0.8209607\ttotal: 14.6ms\tremaining: 2.9s\n",
      "50:\tlearn: 0.8733624\ttotal: 802ms\tremaining: 2.34s\n",
      "100:\tlearn: 0.9082969\ttotal: 1.49s\tremaining: 1.46s\n",
      "150:\tlearn: 0.9432314\ttotal: 2.18s\tremaining: 707ms\n",
      "199:\tlearn: 0.9737991\ttotal: 2.83s\tremaining: 0us\n",
      "0:\tlearn: 0.7947598\ttotal: 17.1ms\tremaining: 3.4s\n",
      "50:\tlearn: 0.8733624\ttotal: 805ms\tremaining: 2.35s\n",
      "100:\tlearn: 0.9126638\ttotal: 1.59s\tremaining: 1.56s\n",
      "150:\tlearn: 0.9388646\ttotal: 2.28s\tremaining: 740ms\n",
      "199:\tlearn: 0.9825328\ttotal: 2.95s\tremaining: 0us\n",
      "0:\tlearn: 0.7043478\ttotal: 15.4ms\tremaining: 3.06s\n",
      "50:\tlearn: 0.8608696\ttotal: 722ms\tremaining: 2.11s\n",
      "100:\tlearn: 0.9000000\ttotal: 1.49s\tremaining: 1.46s\n",
      "150:\tlearn: 0.9260870\ttotal: 2.23s\tremaining: 725ms\n",
      "199:\tlearn: 0.9695652\ttotal: 2.89s\tremaining: 0us\n",
      "0:\tlearn: 0.7608696\ttotal: 16ms\tremaining: 3.17s\n",
      "50:\tlearn: 0.8565217\ttotal: 820ms\tremaining: 2.39s\n",
      "100:\tlearn: 0.9086957\ttotal: 1.59s\tremaining: 1.56s\n",
      "150:\tlearn: 0.9347826\ttotal: 2.32s\tremaining: 754ms\n",
      "199:\tlearn: 0.9608696\ttotal: 3.01s\tremaining: 0us\n",
      "0:\tlearn: 0.8043478\ttotal: 9.6ms\tremaining: 1.91s\n",
      "50:\tlearn: 0.8739130\ttotal: 512ms\tremaining: 1.5s\n",
      "100:\tlearn: 0.9043478\ttotal: 946ms\tremaining: 928ms\n",
      "150:\tlearn: 0.9260870\ttotal: 1.35s\tremaining: 439ms\n",
      "199:\tlearn: 0.9478261\ttotal: 1.76s\tremaining: 0us\n",
      "0:\tlearn: 0.7641921\ttotal: 13.1ms\tremaining: 2.62s\n",
      "50:\tlearn: 0.8646288\ttotal: 431ms\tremaining: 1.26s\n",
      "100:\tlearn: 0.8908297\ttotal: 837ms\tremaining: 820ms\n",
      "150:\tlearn: 0.9213974\ttotal: 1.25s\tremaining: 407ms\n",
      "199:\tlearn: 0.9475983\ttotal: 1.66s\tremaining: 0us\n",
      "0:\tlearn: 0.8034934\ttotal: 10.8ms\tremaining: 2.15s\n",
      "50:\tlearn: 0.8646288\ttotal: 433ms\tremaining: 1.26s\n",
      "100:\tlearn: 0.9039301\ttotal: 847ms\tremaining: 830ms\n",
      "150:\tlearn: 0.9213974\ttotal: 1.26s\tremaining: 408ms\n",
      "199:\tlearn: 0.9432314\ttotal: 1.66s\tremaining: 0us\n",
      "0:\tlearn: 0.7695652\ttotal: 10.9ms\tremaining: 2.18s\n",
      "50:\tlearn: 0.8608696\ttotal: 422ms\tremaining: 1.23s\n",
      "100:\tlearn: 0.8913043\ttotal: 832ms\tremaining: 815ms\n",
      "150:\tlearn: 0.9086957\ttotal: 1.24s\tremaining: 403ms\n",
      "199:\tlearn: 0.9217391\ttotal: 1.64s\tremaining: 0us\n",
      "0:\tlearn: 0.7956522\ttotal: 10.6ms\tremaining: 2.12s\n",
      "50:\tlearn: 0.8391304\ttotal: 417ms\tremaining: 1.22s\n",
      "100:\tlearn: 0.8782609\ttotal: 830ms\tremaining: 814ms\n",
      "150:\tlearn: 0.9043478\ttotal: 1.27s\tremaining: 412ms\n",
      "199:\tlearn: 0.9304348\ttotal: 1.68s\tremaining: 0us\n",
      "0:\tlearn: 0.8043478\ttotal: 12ms\tremaining: 2.38s\n",
      "50:\tlearn: 0.8608696\ttotal: 428ms\tremaining: 1.25s\n",
      "100:\tlearn: 0.8739130\ttotal: 842ms\tremaining: 825ms\n",
      "150:\tlearn: 0.8913043\ttotal: 1.25s\tremaining: 407ms\n",
      "199:\tlearn: 0.9086957\ttotal: 1.65s\tremaining: 0us\n",
      "0:\tlearn: 0.7641921\ttotal: 10.9ms\tremaining: 2.17s\n",
      "50:\tlearn: 0.8427948\ttotal: 423ms\tremaining: 1.24s\n",
      "100:\tlearn: 0.8689956\ttotal: 832ms\tremaining: 816ms\n",
      "150:\tlearn: 0.8777293\ttotal: 1.24s\tremaining: 404ms\n",
      "199:\tlearn: 0.8908297\ttotal: 1.64s\tremaining: 0us\n",
      "0:\tlearn: 0.8034934\ttotal: 10.4ms\tremaining: 2.07s\n",
      "50:\tlearn: 0.8471616\ttotal: 432ms\tremaining: 1.26s\n",
      "100:\tlearn: 0.8602620\ttotal: 838ms\tremaining: 822ms\n",
      "150:\tlearn: 0.8820961\ttotal: 1.24s\tremaining: 403ms\n",
      "199:\tlearn: 0.9039301\ttotal: 1.64s\tremaining: 0us\n",
      "0:\tlearn: 0.7695652\ttotal: 10.9ms\tremaining: 2.18s\n",
      "50:\tlearn: 0.8304348\ttotal: 427ms\tremaining: 1.25s\n",
      "100:\tlearn: 0.8478261\ttotal: 838ms\tremaining: 822ms\n",
      "150:\tlearn: 0.8608696\ttotal: 1.24s\tremaining: 404ms\n",
      "199:\tlearn: 0.8826087\ttotal: 1.64s\tremaining: 0us\n",
      "0:\tlearn: 0.7956522\ttotal: 11ms\tremaining: 2.19s\n",
      "50:\tlearn: 0.8260870\ttotal: 434ms\tremaining: 1.27s\n",
      "100:\tlearn: 0.8478261\ttotal: 868ms\tremaining: 850ms\n",
      "150:\tlearn: 0.8608696\ttotal: 1.3s\tremaining: 421ms\n",
      "199:\tlearn: 0.8869565\ttotal: 1.7s\tremaining: 0us\n",
      "0:\tlearn: 0.8086957\ttotal: 26.6ms\tremaining: 5.29s\n",
      "50:\tlearn: 0.8391304\ttotal: 956ms\tremaining: 2.79s\n",
      "100:\tlearn: 0.8478261\ttotal: 1.9s\tremaining: 1.86s\n",
      "150:\tlearn: 0.8521739\ttotal: 2.83s\tremaining: 919ms\n",
      "199:\tlearn: 0.8565217\ttotal: 3.76s\tremaining: 0us\n",
      "0:\tlearn: 0.8034934\ttotal: 19.4ms\tremaining: 3.86s\n",
      "50:\tlearn: 0.8384279\ttotal: 963ms\tremaining: 2.81s\n",
      "100:\tlearn: 0.8427948\ttotal: 1.9s\tremaining: 1.86s\n",
      "150:\tlearn: 0.8515284\ttotal: 2.84s\tremaining: 921ms\n",
      "199:\tlearn: 0.8558952\ttotal: 3.74s\tremaining: 0us\n",
      "0:\tlearn: 0.8078603\ttotal: 18.8ms\tremaining: 3.74s\n",
      "50:\tlearn: 0.8340611\ttotal: 972ms\tremaining: 2.84s\n",
      "100:\tlearn: 0.8427948\ttotal: 1.91s\tremaining: 1.88s\n",
      "150:\tlearn: 0.8515284\ttotal: 2.85s\tremaining: 925ms\n",
      "199:\tlearn: 0.8602620\ttotal: 3.74s\tremaining: 0us\n",
      "0:\tlearn: 0.7695652\ttotal: 19.4ms\tremaining: 3.85s\n",
      "50:\tlearn: 0.8260870\ttotal: 952ms\tremaining: 2.78s\n",
      "100:\tlearn: 0.8304348\ttotal: 1.89s\tremaining: 1.85s\n",
      "150:\tlearn: 0.8391304\ttotal: 2.81s\tremaining: 913ms\n",
      "199:\tlearn: 0.8434783\ttotal: 3.72s\tremaining: 0us\n",
      "0:\tlearn: 0.7695652\ttotal: 19.7ms\tremaining: 3.91s\n",
      "50:\tlearn: 0.8173913\ttotal: 1.02s\tremaining: 2.98s\n",
      "100:\tlearn: 0.8217391\ttotal: 1.97s\tremaining: 1.93s\n",
      "150:\tlearn: 0.8260870\ttotal: 2.9s\tremaining: 941ms\n",
      "199:\tlearn: 0.8391304\ttotal: 3.8s\tremaining: 0us\n",
      "0:\tlearn: 0.7839721\ttotal: 10.8ms\tremaining: 2.15s\n",
      "50:\tlearn: 0.8536585\ttotal: 484ms\tremaining: 1.41s\n",
      "100:\tlearn: 0.8919861\ttotal: 969ms\tremaining: 950ms\n",
      "150:\tlearn: 0.9163763\ttotal: 1.48s\tremaining: 480ms\n",
      "199:\tlearn: 0.9303136\ttotal: 1.96s\tremaining: 0us\n"
     ]
    },
    {
     "data": {
      "text/plain": [
       "RandomizedSearchCV(cv=5,\n",
       "                   estimator=<catboost.core.CatBoostClassifier object at 0x000001E88EC00400>,\n",
       "                   param_distributions={'depth': range(6, 10),\n",
       "                                        'learning_rate': [0.001, 0.01, 0.05,\n",
       "                                                          0.1]})"
      ]
     },
     "execution_count": 7,
     "metadata": {},
     "output_type": "execute_result"
    }
   ],
   "source": [
    "final_clf.fit(train_X, train_y, verbose=True)"
   ]
  },
  {
   "cell_type": "code",
   "execution_count": 8,
   "metadata": {},
   "outputs": [
    {
     "name": "stdout",
     "output_type": "stream",
     "text": [
      "{'learning_rate': 0.1, 'depth': 6}\n",
      "0.999569815680198\n"
     ]
    }
   ],
   "source": [
    "print(final_clf.best_params_)\n",
    "print(final_clf.best_score_)"
   ]
  },
  {
   "cell_type": "code",
   "execution_count": 9,
   "metadata": {},
   "outputs": [
    {
     "name": "stdout",
     "output_type": "stream",
     "text": [
      "0:\tlearn: 0.7839721\ttotal: 12.1ms\tremaining: 3.61s\n",
      "50:\tlearn: 0.8536585\ttotal: 514ms\tremaining: 2.51s\n",
      "100:\tlearn: 0.8919861\ttotal: 1.01s\tremaining: 1.99s\n",
      "150:\tlearn: 0.9163763\ttotal: 1.52s\tremaining: 1.5s\n",
      "200:\tlearn: 0.9303136\ttotal: 2.02s\tremaining: 995ms\n",
      "250:\tlearn: 0.9442509\ttotal: 2.52s\tremaining: 493ms\n",
      "299:\tlearn: 0.9616725\ttotal: 3.01s\tremaining: 0us\n"
     ]
    },
    {
     "data": {
      "text/plain": [
       "<catboost.core.CatBoostClassifier at 0x1e88db52f70>"
      ]
     },
     "execution_count": 9,
     "metadata": {},
     "output_type": "execute_result"
    }
   ],
   "source": [
    "cbc_opt = CatBoostClassifier(eval_metric='Recall',\n",
    "                        random_seed=RANDOM_STATE,\n",
    "                        metric_period=50,\n",
    "                        iterations=300,\n",
    "                        task_type=\"GPU\",\n",
    "                        devices=\"0:1\",\n",
    "                        learning_rate=0.1,\n",
    "                        depth=6)\n",
    "cbc_opt.fit(train_X, train_y, verbose=True)"
   ]
  },
  {
   "cell_type": "code",
   "execution_count": 11,
   "metadata": {},
   "outputs": [
    {
     "name": "stdout",
     "output_type": "stream",
     "text": [
      "              precision    recall  f1-score   support\n",
      "\n",
      "           0       1.00      1.00      1.00     49496\n",
      "           1       0.96      0.79      0.87        96\n",
      "\n",
      "    accuracy                           1.00     49592\n",
      "   macro avg       0.98      0.90      0.93     49592\n",
      "weighted avg       1.00      1.00      1.00     49592\n",
      "\n"
     ]
    },
    {
     "data": {
      "image/png": "[encoded data removed]",
      "text/plain": [
       "<Figure size 1296x360 with 4 Axes>"
      ]
     },
     "metadata": {
      "needs_background": "light"
     },
     "output_type": "display_data"
    }
   ],
   "source": [
    "cbc_opt_pred = cbc_opt.predict(test_X)\n",
    "plot_norm_heatmap(test_y, cbc_opt_pred, \"#a2334c\")"
   ]
  },
  {
   "cell_type": "code",
   "execution_count": 13,
   "metadata": {},
   "outputs": [
    {
     "data": {
      "text/plain": [
       "0.8958030278541026"
      ]
     },
     "execution_count": 13,
     "metadata": {},
     "output_type": "execute_result"
    }
   ],
   "source": [
    "from sklearn.metrics import roc_auc_score\n",
    "\n",
    "roc_auc_score(test_y, cbc_opt_pred)"
   ]
  },
  {
   "cell_type": "code",
   "execution_count": 14,
   "metadata": {},
   "outputs": [],
   "source": [
    "submission = cbc_opt.predict(df_test)"
   ]
  },
  {
   "cell_type": "code",
   "execution_count": 17,
   "metadata": {},
   "outputs": [],
   "source": [
    "# sub_df = pd.DataFrame(data=submission.flatten())\n",
    "# sub_df.columns = [\"Class\"]\n",
    "sub_df = pd.DataFrame(data=df_test[\"ID\"])\n",
    "sub_df[\"Class\"] = submission.flatten()"
   ]
  },
  {
   "cell_type": "code",
   "execution_count": 18,
   "metadata": {},
   "outputs": [
    {
     "data": {
      "text/html": [
       "<div>\n",
       "<style scoped>\n",
       "    .dataframe tbody tr th:only-of-type {\n",
       "        vertical-align: middle;\n",
       "    }\n",
       "\n",
       "    .dataframe tbody tr th {\n",
       "        vertical-align: top;\n",
       "    }\n",
       "\n",
       "    .dataframe thead th {\n",
       "        text-align: right;\n",
       "    }\n",
       "</style>\n",
       "<table border=\"1\" class=\"dataframe\">\n",
       "  <thead>\n",
       "    <tr style=\"text-align: right;\">\n",
       "      <th></th>\n",
       "      <th>ID</th>\n",
       "      <th>Class</th>\n",
       "    </tr>\n",
       "  </thead>\n",
       "  <tbody>\n",
       "    <tr>\n",
       "      <th>0</th>\n",
       "      <td>198366</td>\n",
       "      <td>0</td>\n",
       "    </tr>\n",
       "    <tr>\n",
       "      <th>1</th>\n",
       "      <td>198367</td>\n",
       "      <td>0</td>\n",
       "    </tr>\n",
       "    <tr>\n",
       "      <th>2</th>\n",
       "      <td>198368</td>\n",
       "      <td>0</td>\n",
       "    </tr>\n",
       "    <tr>\n",
       "      <th>3</th>\n",
       "      <td>198369</td>\n",
       "      <td>0</td>\n",
       "    </tr>\n",
       "    <tr>\n",
       "      <th>4</th>\n",
       "      <td>198370</td>\n",
       "      <td>0</td>\n",
       "    </tr>\n",
       "    <tr>\n",
       "      <th>...</th>\n",
       "      <td>...</td>\n",
       "      <td>...</td>\n",
       "    </tr>\n",
       "    <tr>\n",
       "      <th>86437</th>\n",
       "      <td>284803</td>\n",
       "      <td>0</td>\n",
       "    </tr>\n",
       "    <tr>\n",
       "      <th>86438</th>\n",
       "      <td>284804</td>\n",
       "      <td>0</td>\n",
       "    </tr>\n",
       "    <tr>\n",
       "      <th>86439</th>\n",
       "      <td>284805</td>\n",
       "      <td>0</td>\n",
       "    </tr>\n",
       "    <tr>\n",
       "      <th>86440</th>\n",
       "      <td>284806</td>\n",
       "      <td>0</td>\n",
       "    </tr>\n",
       "    <tr>\n",
       "      <th>86441</th>\n",
       "      <td>284807</td>\n",
       "      <td>0</td>\n",
       "    </tr>\n",
       "  </tbody>\n",
       "</table>\n",
       "<p>86442 rows × 2 columns</p>\n",
       "</div>"
      ],
      "text/plain": [
       "           ID  Class\n",
       "0      198366      0\n",
       "1      198367      0\n",
       "2      198368      0\n",
       "3      198369      0\n",
       "4      198370      0\n",
       "...       ...    ...\n",
       "86437  284803      0\n",
       "86438  284804      0\n",
       "86439  284805      0\n",
       "86440  284806      0\n",
       "86441  284807      0\n",
       "\n",
       "[86442 rows x 2 columns]"
      ]
     },
     "execution_count": 18,
     "metadata": {},
     "output_type": "execute_result"
    }
   ],
   "source": [
    "sub_df"
   ]
  },
  {
   "cell_type": "code",
   "execution_count": 19,
   "metadata": {},
   "outputs": [
    {
     "data": {
      "text/plain": [
       "78"
      ]
     },
     "execution_count": 19,
     "metadata": {},
     "output_type": "execute_result"
    }
   ],
   "source": [
    "# How many frauds were found\n",
    "len(sub_df.loc[sub_df[\"Class\"] == 1].values)"
   ]
  },
  {
   "cell_type": "code",
   "execution_count": 21,
   "metadata": {},
   "outputs": [],
   "source": [
    "sub_df.to_csv(\"submission.csv\", index=False)"
   ]
  }
 ],
 "metadata": {
  "interpreter": {
   "hash": "12b3628791313994e768018f389eed00be69fad8b2fe3edc75740f26a6d49a01"
  },
  "kernelspec": {
   "display_name": "Python 3.9.0 64-bit",
   "language": "python",
   "name": "python3"
  },
  "language_info": {
   "codemirror_mode": {
    "name": "ipython",
    "version": 3
   },
   "file_extension": ".py",
   "mimetype": "text/x-python",
   "name": "python",
   "nbconvert_exporter": "python",
   "pygments_lexer": "ipython3",
   "version": "3.9.0"
  },
  "orig_nbformat": 4
 },
 "nbformat": 4,
 "nbformat_minor": 2
}
